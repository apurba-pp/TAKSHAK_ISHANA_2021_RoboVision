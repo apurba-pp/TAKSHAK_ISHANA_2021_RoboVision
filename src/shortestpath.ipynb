{
 "cells": [
  {
   "cell_type": "markdown",
   "source": [
    "# Installing dependencies"
   ],
   "metadata": {}
  },
  {
   "cell_type": "code",
   "execution_count": 12,
   "source": [
    "!pip install opencv-python\r\n",
    "!pip install numpy"
   ],
   "outputs": [
    {
     "output_type": "stream",
     "name": "stdout",
     "text": [
      "Requirement already satisfied: opencv-python in c:\\users\\apurba p. padhy\\appdata\\local\\programs\\python\\python39\\lib\\site-packages (4.5.3.56)\n",
      "Requirement already satisfied: numpy>=1.19.3 in c:\\users\\apurba p. padhy\\appdata\\local\\programs\\python\\python39\\lib\\site-packages (from opencv-python) (1.19.5)\n",
      "Requirement already satisfied: numpy in c:\\users\\apurba p. padhy\\appdata\\local\\programs\\python\\python39\\lib\\site-packages (1.19.5)\n"
     ]
    }
   ],
   "metadata": {}
  },
  {
   "cell_type": "markdown",
   "source": [
    "# Python Libraries"
   ],
   "metadata": {}
  },
  {
   "cell_type": "code",
   "execution_count": 1,
   "source": [
    "import os\r\n",
    "import cv2\r\n",
    "import numpy as np\r\n",
    "import json"
   ],
   "outputs": [],
   "metadata": {}
  },
  {
   "cell_type": "markdown",
   "source": [
    "# Start and End Point Marking Function"
   ],
   "metadata": {}
  },
  {
   "cell_type": "code",
   "execution_count": 2,
   "source": [
    "def point_marking(start , end, img):\r\n",
    "    x1=start[0]\r\n",
    "    y1=start[1]\r\n",
    "    x2=end[0]\r\n",
    "    y2=end[1]\r\n",
    "\r\n",
    "    cv2.circle(img, (x1,y1), 10, (255,0,255), cv2.FILLED)\r\n",
    "    cv2.circle(img, (x2,y2), 10, (0,0,255), cv2.FILLED)\r\n",
    "\r\n",
    "    return img"
   ],
   "outputs": [],
   "metadata": {}
  },
  {
   "cell_type": "markdown",
   "source": [
    "# Extracting different image file names"
   ],
   "metadata": {}
  },
  {
   "cell_type": "code",
   "execution_count": 3,
   "source": [
    "\r\n",
    "filenames= os.listdir(\"C:\\\\Users\\\\Apurba P. Padhy\\\\Documents\\\\GitHub\\\\TAKSHAK_ISHANA_2021_RoboVision\\\\Takshak_dataset40%\")\r\n",
    "imagenames=[]\r\n",
    "for file in filenames:\r\n",
    "    if file.split('.')[-1] == 'png':\r\n",
    "        imagenames.append(file)\r\n"
   ],
   "outputs": [],
   "metadata": {}
  },
  {
   "cell_type": "markdown",
   "source": [
    "# Reading any one json file to extract and then mark the start-end point (Working)"
   ],
   "metadata": {}
  },
  {
   "cell_type": "code",
   "execution_count": 17,
   "source": [
    "\r\n",
    "img= cv2.imread(\"C:\\\\Users\\\\Apurba P. Padhy\\\\Documents\\\\GitHub\\\\TAKSHAK_ISHANA_2021_RoboVision\\\\Takshak_dataset40%\\\\Image1.png\")\r\n",
    "f = open(\"C:\\\\Users\\\\Apurba P. Padhy\\\\Documents\\\\GitHub\\\\TAKSHAK_ISHANA_2021_RoboVision\\\\Takshak_dataset40%\\\\Image1.json\")\r\n",
    "data = json.load(f)\r\n",
    "f.close()\r\n",
    "start_point= data['Start']\r\n",
    "end_point= data['End']\r\n",
    "img=point_marking(start_point, end_point, img)\r\n",
    "cv2.imshow(\"Marked\", img)\r\n",
    "cv2.waitKey(0)"
   ],
   "outputs": [
    {
     "output_type": "execute_result",
     "data": {
      "text/plain": [
       "-1"
      ]
     },
     "metadata": {},
     "execution_count": 17
    }
   ],
   "metadata": {}
  },
  {
   "cell_type": "markdown",
   "source": [
    "# Reading all the json file in loop to extract and then mark there start-end points (Showing Error)"
   ],
   "metadata": {}
  },
  {
   "cell_type": "code",
   "execution_count": 7,
   "source": [
    "for name in imagenames:\r\n",
    "    img= cv2.imread(name)\r\n",
    "    json_name= name.split(\".\")[0]+'.json'\r\n",
    "    file_path = os.path.join(\"C:\\\\Users\\\\Apurba P. Padhy\\\\Documents\\\\GitHub\\\\TAKSHAK_ISHANA_2021_RoboVision\\\\Takshak_dataset40%\",json_name)\r\n",
    "    f=open(file_path)\r\n",
    "    data = json.load(f)\r\n",
    "    f.close()\r\n",
    "    start_point= data['Start']\r\n",
    "    end_point= data['End']\r\n",
    "    img=point_marking(start_point, end_point, img)\r\n",
    "    cv2.imshow(\"Marked\", img)\r\n",
    "    cv2.waitKey(2000)"
   ],
   "outputs": [
    {
     "output_type": "error",
     "ename": "error",
     "evalue": "OpenCV(4.5.3) C:\\Users\\runneradmin\\AppData\\Local\\Temp\\pip-req-build-1i5nllza\\opencv\\modules\\imgproc\\src\\color.cpp:182: error: (-215:Assertion failed) !_src.empty() in function 'cv::cvtColor'\n",
     "traceback": [
      "\u001b[1;31m---------------------------------------------------------------------------\u001b[0m",
      "\u001b[1;31merror\u001b[0m                                     Traceback (most recent call last)",
      "\u001b[1;32m<ipython-input-7-552e137c9cd4>\u001b[0m in \u001b[0;36m<module>\u001b[1;34m\u001b[0m\n\u001b[0;32m     10\u001b[0m     \u001b[0mimg\u001b[0m\u001b[1;33m=\u001b[0m\u001b[0mpoint_marking\u001b[0m\u001b[1;33m(\u001b[0m\u001b[0mstart_point\u001b[0m\u001b[1;33m,\u001b[0m \u001b[0mend_point\u001b[0m\u001b[1;33m,\u001b[0m \u001b[0mimg\u001b[0m\u001b[1;33m)\u001b[0m\u001b[1;33m\u001b[0m\u001b[1;33m\u001b[0m\u001b[0m\n\u001b[0;32m     11\u001b[0m     \u001b[1;31m#print(img)\u001b[0m\u001b[1;33m\u001b[0m\u001b[1;33m\u001b[0m\u001b[1;33m\u001b[0m\u001b[0m\n\u001b[1;32m---> 12\u001b[1;33m     \u001b[0mcv2\u001b[0m\u001b[1;33m.\u001b[0m\u001b[0mimshow\u001b[0m\u001b[1;33m(\u001b[0m\u001b[1;34m\"Marked\"\u001b[0m\u001b[1;33m,\u001b[0m \u001b[0mimg\u001b[0m\u001b[1;33m)\u001b[0m\u001b[1;33m\u001b[0m\u001b[1;33m\u001b[0m\u001b[0m\n\u001b[0m\u001b[0;32m     13\u001b[0m     \u001b[0mcv2\u001b[0m\u001b[1;33m.\u001b[0m\u001b[0mwaitKey\u001b[0m\u001b[1;33m(\u001b[0m\u001b[1;36m2000\u001b[0m\u001b[1;33m)\u001b[0m\u001b[1;33m\u001b[0m\u001b[1;33m\u001b[0m\u001b[0m\n",
      "\u001b[1;31merror\u001b[0m: OpenCV(4.5.3) C:\\Users\\runneradmin\\AppData\\Local\\Temp\\pip-req-build-1i5nllza\\opencv\\modules\\imgproc\\src\\color.cpp:182: error: (-215:Assertion failed) !_src.empty() in function 'cv::cvtColor'\n"
     ]
    }
   ],
   "metadata": {}
  }
 ],
 "metadata": {
  "orig_nbformat": 4,
  "language_info": {
   "name": "python",
   "version": "3.9.6",
   "mimetype": "text/x-python",
   "codemirror_mode": {
    "name": "ipython",
    "version": 3
   },
   "pygments_lexer": "ipython3",
   "nbconvert_exporter": "python",
   "file_extension": ".py"
  },
  "kernelspec": {
   "name": "python3",
   "display_name": "Python 3.9.6 64-bit ('.venv': venv)"
  },
  "interpreter": {
   "hash": "a5851cf43e89c10f99519bfaee310a2ad64a656bae5236c7ec6f3ff5135620e5"
  }
 },
 "nbformat": 4,
 "nbformat_minor": 2
}